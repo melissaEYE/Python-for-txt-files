{
 "cells": [
  {
   "cell_type": "code",
   "execution_count": 2,
   "metadata": {},
   "outputs": [
    {
     "name": "stdout",
     "output_type": "stream",
     "text": [
      "Enter a number, or if finished type 'Done' to exit the program: 99\n",
      "Enter a number, or if finished type 'Done' to exit the program: 123\n",
      "Enter a number, or if finished type 'Done' to exit the program: 5\n",
      "Enter a number, or if finished type 'Done' to exit the program: 23\n",
      "Enter a number, or if finished type 'Done' to exit the program: done\n",
      "Total:  250.0\n",
      "Count:  4\n",
      "Average:  62.5\n"
     ]
    }
   ],
   "source": [
    "# DATA 620 Assignment 8.3, turn in #1\n",
    "# Written by Melissa Hunfalvay\n",
    "# Last Updated March 8th, 2021\n",
    "\n",
    "# This program repeatedly reads numbers until the user enters “done”. \n",
    "# Once “done” is entered, print out the total, count, and average of the numbers\n",
    "\n",
    "import sys\n",
    "\n",
    "#If the user enters anything other than a number, \n",
    "# detect their mistake using try and except and print an error message and skip to the next number.\n",
    "# If not a number \n",
    "# If not an integer\n",
    "\n",
    "try:\n",
    "    \n",
    "# Repeat the input process until the user types 'done'\n",
    "    numberslist = []\n",
    "    while True:\n",
    "        number = input(\"Enter a number, or if finished type 'Done' to exit the program: \") # Prompt the user for a number \n",
    "        if number.lower() == \"done\": # this ensures that if the input has a capital letter it converts it to lower case and accepts the input\n",
    "            break\n",
    "        else:\n",
    "            floatNumber = float(number) # Convert user input from default string value to a float\n",
    "            numberslist.append(floatNumber)\n",
    "    \n",
    "# If the user enters anything other than a number, \n",
    "# detect their mistake using try and except and print an error message and skip to the next number.\n",
    "\n",
    "except Exception as err:\n",
    "    print(err)\n",
    "    print(\"Input not valid\")\n",
    "\n",
    "# Calculate and print total \n",
    "\n",
    "total = 0\n",
    "for number in numberslist:\n",
    "    total = total + number # Another way to compute the sum is to do this sum(numberslist)\n",
    "\n",
    "# Calculate and print the count\n",
    "\n",
    "count = 0\n",
    "for number in numberslist:\n",
    "    count = count + 1\n",
    "\n",
    "#Calculate and print the average. When computing the average, \n",
    "\n",
    "if count > 0:\n",
    "    average = (total/count) # Another way to compute the average is to do this average(numberslist)\n",
    "    print(\"Total: \", round(total,2)) # print the value but only to 2 decimal places\n",
    "    print('Count: ', count)\n",
    "    print('Average: ',  round(average,2)) # print the value but only to 2 decimal places\n",
    "\n",
    "# End of script"
   ]
  },
  {
   "cell_type": "code",
   "execution_count": null,
   "metadata": {
    "collapsed": true,
    "jupyter": {
     "outputs_hidden": true
    }
   },
   "outputs": [],
   "source": []
  },
  {
   "cell_type": "code",
   "execution_count": null,
   "metadata": {},
   "outputs": [],
   "source": []
  }
 ],
 "metadata": {
  "kernelspec": {
   "display_name": "Python 3 (ipykernel)",
   "language": "python",
   "name": "python3"
  },
  "language_info": {
   "codemirror_mode": {
    "name": "ipython",
    "version": 3
   },
   "file_extension": ".py",
   "mimetype": "text/x-python",
   "name": "python",
   "nbconvert_exporter": "python",
   "pygments_lexer": "ipython3",
   "version": "3.8.12"
  }
 },
 "nbformat": 4,
 "nbformat_minor": 4
}
