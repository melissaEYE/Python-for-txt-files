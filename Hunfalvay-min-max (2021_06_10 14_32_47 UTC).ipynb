{
 "cells": [
  {
   "cell_type": "code",
   "execution_count": 1,
   "metadata": {},
   "outputs": [
    {
     "name": "stdout",
     "output_type": "stream",
     "text": [
      "Enter a number, or if finished type 'Done' to exit the program: 66\n",
      "Enter a number, or if finished type 'Done' to exit the program: 888\n",
      "Enter a number, or if finished type 'Done' to exit the program: 1022\n",
      "Enter a number, or if finished type 'Done' to exit the program: done\n",
      "Minimum:  66.0\n",
      "Maximum:  1022.0\n"
     ]
    }
   ],
   "source": [
    "# DATA 620 Assignment 8.3, turn in #2\n",
    "# Written by Melissa Hunfalvay\n",
    "# Last Updated March 8th, 2021\n",
    "\n",
    "# This program prompts the user for a number then lists the number (using Python lists) \n",
    "# at the end prints out both the maximum and minimum of the numbers instead of the average.\n",
    "\n",
    "import sys\n",
    "\n",
    "\n",
    "#If the user enters anything other than a number, \n",
    "# detect their mistake using try and except and print an error message and skip to the next number.\n",
    "# If not a number \n",
    "# If not an integer\n",
    "\n",
    "try:\n",
    "    numberslist = [] # Repeat the input process until the user types 'done'\n",
    "    while True:\n",
    "        number = input(\"Enter a number, or if finished type 'Done' to exit the program: \") # Prompt the user for a number \n",
    "        if number.lower() == \"done\": # this ensures that if the input has a capital letter it converts it to lower case and accepts the input\n",
    "            break\n",
    "        else:\n",
    "            floatNumber = float(number) # Convert user input from default string value to a float\n",
    "            numberslist.append(floatNumber)\n",
    "    \n",
    "# If the user enters anything other than a number, \n",
    "# detect their mistake using try and except and print an error message and skip to the next number.\n",
    "\n",
    "except Exception as err:\n",
    "    print(err)\n",
    "    print(\"Input not valid\")\n",
    "\n",
    "# Output the minimum number in the set\n",
    "\n",
    "def minimum(values): # could also do this min(numberslist)\n",
    "    smallest = None\n",
    "    for value in values:\n",
    "        if smallest is None or value < smallest:\n",
    "            smallest = value\n",
    "    return smallest\n",
    "\n",
    "# Output the maximum number in the set\n",
    "\n",
    "def maximum(values): # could also do this max(numberslist)\n",
    "    largest = None\n",
    "    for value in values:\n",
    "        if largest is None or value > largest: \n",
    "            largest = value\n",
    "    return largest\n",
    "\n",
    "if len(numberslist) > 0:\n",
    "    print(\"Minimum: \", minimum(numberslist)) # print the value but only to 2 decimal places\n",
    "    print('Maximum: ', maximum(numberslist)) # print the value but only to 2 decimal places\n",
    "\n",
    "# End of script"
   ]
  },
  {
   "cell_type": "code",
   "execution_count": 7,
   "metadata": {},
   "outputs": [
    {
     "data": {
      "text/plain": [
       "1.0"
      ]
     },
     "execution_count": 7,
     "metadata": {},
     "output_type": "execute_result"
    }
   ],
   "source": [
    "min(numberslist)"
   ]
  },
  {
   "cell_type": "code",
   "execution_count": null,
   "metadata": {},
   "outputs": [],
   "source": [
    "min(n)"
   ]
  }
 ],
 "metadata": {
  "kernelspec": {
   "display_name": "Python 3 (ipykernel)",
   "language": "python",
   "name": "python3"
  },
  "language_info": {
   "codemirror_mode": {
    "name": "ipython",
    "version": 3
   },
   "file_extension": ".py",
   "mimetype": "text/x-python",
   "name": "python",
   "nbconvert_exporter": "python",
   "pygments_lexer": "ipython3",
   "version": "3.8.12"
  }
 },
 "nbformat": 4,
 "nbformat_minor": 4
}
