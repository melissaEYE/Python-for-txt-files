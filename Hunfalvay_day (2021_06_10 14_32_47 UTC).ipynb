{
 "cells": [
  {
   "cell_type": "code",
   "execution_count": 1,
   "metadata": {},
   "outputs": [
    {
     "name": "stdout",
     "output_type": "stream",
     "text": [
      "Please enter a file name: mbox\n",
      "The contents of this dictonary are:  {'Sat': 61, 'Fri': 315, 'Thu': 392, 'Wed': 292, 'Tue': 372, 'Mon': 299, 'Sun': 66}\n"
     ]
    }
   ],
   "source": [
    "# DATA 620 Assignment 11.2, turn in #2\n",
    "# Written by Melissa Hunfalvay\n",
    "# Last Updated March 25th, 2021\n",
    "\n",
    "# This program categorizes each mail message in the mbox.txt file by which day of the week the commit was done. \n",
    "# To do this I look for lines that start with “From”, then look for the third word and keep a running count \n",
    "# of each of the days of the week. \n",
    "# At the end of the program I print out the contents of the dictionary \n",
    "\n",
    "import sys\n",
    "\n",
    "day_of_week = {}\n",
    "\n",
    "try:\n",
    "    \n",
    "    filename = input(\"Please enter a file name: \")  # Prompt the user for a file name\n",
    "    if \".txt\" not in filename: #Error Case 1: if the person adds the correct file name but does not add the txt extension\n",
    "        filename = filename + \".txt\"\n",
    "    f = open(filename,\"r\") # Open a connection to the file, r = read only\n",
    "    file = f.readlines() # Read each line of the file and store it to a variable, i.e. file\n",
    "    f.close() # This closes the file because it has been read\n",
    "    \n",
    "    for line in file:\n",
    "        words = line.split()\n",
    "        if len(words)>0: # check for the condition that the line may be empty, i.e. not contain any words!\n",
    "            if words[0] == 'From': # look for lines that start with “From”\n",
    "                #print(words[2]) # pull the third word from the line\n",
    "                if words[2] in day_of_week:\n",
    "                    day_of_week[words[2]] += 1 # keep a running count of each of the days of the week \n",
    "                else:\n",
    "                    day_of_week[words[2]] = 1 # if the day of the week is not yet in the dictionary then add it and assign a value of 1\n",
    "\n",
    "# If the user enters anything other than the filename detect their mistake using try and except and print an error message \n",
    "except Exception as err:\n",
    "    print(err)\n",
    "    print(\"Input not valid\")\n",
    "    \n",
    "\n",
    "# At the end of the program I print out the contents of the dictionary \n",
    "print(\"The contents of this dictonary are: \", day_of_week)\n",
    "\n",
    "# End of script"
   ]
  },
  {
   "cell_type": "code",
   "execution_count": null,
   "metadata": {},
   "outputs": [],
   "source": []
  }
 ],
 "metadata": {
  "kernelspec": {
   "display_name": "Python 3 (ipykernel)",
   "language": "python",
   "name": "python3"
  },
  "language_info": {
   "codemirror_mode": {
    "name": "ipython",
    "version": 3
   },
   "file_extension": ".py",
   "mimetype": "text/x-python",
   "name": "python",
   "nbconvert_exporter": "python",
   "pygments_lexer": "ipython3",
   "version": "3.8.12"
  }
 },
 "nbformat": 4,
 "nbformat_minor": 4
}
