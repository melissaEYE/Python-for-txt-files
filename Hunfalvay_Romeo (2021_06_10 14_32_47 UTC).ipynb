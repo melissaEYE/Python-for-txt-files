{
 "cells": [
  {
   "cell_type": "code",
   "execution_count": 1,
   "metadata": {},
   "outputs": [
    {
     "name": "stdout",
     "output_type": "stream",
     "text": [
      "Please enter a file name: romeo\n",
      "['already', 'and', 'arise', 'breaks', 'but', 'east', 'envious', 'fair', 'grief', 'is', 'it', 'juliet', 'kill', 'light', 'moon', 'pale', 'sick', 'soft', 'sun', 'the', 'through', 'what', 'who', 'window', 'with', 'yonder']\n"
     ]
    }
   ],
   "source": [
    "# DATA 620 Assignment 11.2, turn in #1\n",
    "# Written by Melissa Hunfalvay\n",
    "# Last Updated March 25th, 2021\n",
    "\n",
    "# This program opens the ﬁle romeo.txt and reads it line by line. \n",
    "# Each line is then split into a list of words using the split function.\n",
    "# Each word is then checked to see if the word is already in a list. \n",
    "# If the word is not in the list, it is added to the list.\n",
    "# When the program completes, the words are sorted and printed in alphabetical order.\n",
    "\n",
    "import sys\n",
    "\n",
    "# Step 1.Download the text file: romeo.txt from https://www.py4e.com/code3/romeo.txt to your local machine. \n",
    "# For ease, place this file in the same folder as the python file for this assignment. This is completed.\n",
    "\n",
    "# Step 2:Create and initialize a list to collect unique words.\n",
    "unique_words = []\n",
    "\n",
    "# Step 3: Prompt the user for the file name. Use a try-except block to exit with a user-friendly error message if there is an error opening the file name specified.\n",
    "try:\n",
    "    \n",
    "    filename = input(\"Please enter a file name: \")  # Prompt the user for a file name\n",
    "    if \".txt\" not in filename: #Error Case 1: if the person adds the correct file name but does not add the txt extension\n",
    "        filename = filename + \".txt\"\n",
    "    f = open(filename,\"r\") # Open a connection to the file, r = read only\n",
    "    file = f.readlines() # Read each line of the file and store it to a variable, i.e. file\n",
    "    f.close() # This closes the file because it has been read\n",
    "    # I am not lower casing the file name because upper and lower case files can legitimately exist and they would be seperate files\n",
    "\n",
    "# Step 4: Once the file is open, use an iterative loop (e.g. “for” or “while”) to traverse each line of the file. \n",
    "\n",
    "    for line in file:\n",
    "        words = line.split() # Step 5: Use the “split” function to split the line into individual words and collect these in a list. \n",
    "        if len(words)>0: # check for the condition that the line may be empty, i.e. not contain any words!\n",
    "            for word in words: # this is where it goes over the words within the line\n",
    "                #print(word) # as an intemediary step I use this to check the code to this point\n",
    "                \n",
    "# Step 6: Check each word against our collection of unique words. If it does not exist, add it in.\n",
    "                if word.lower() not in unique_words: #Error case 2: lower case each word so the alphabetizing is uniform and accurate\n",
    "                    unique_words.append(word.lower())\n",
    "\n",
    "# Step 7: When the program has finished traversing each line in the specified file, \n",
    "# sort the complete collection of unique words in alphabetical order by apply the “sort” function.\n",
    "\n",
    "    alphabet = sorted(unique_words)\n",
    "    print(alphabet)\n",
    "\n",
    "\n",
    "# Error case 3: If the user enters anything other than the filename detect their mistake using try and except and print an error message \n",
    "except Exception as err:\n",
    "    print(err)\n",
    "    print(\"Input not valid\")\n",
    "\n",
    "# End of script"
   ]
  },
  {
   "cell_type": "code",
   "execution_count": null,
   "metadata": {},
   "outputs": [],
   "source": []
  },
  {
   "cell_type": "code",
   "execution_count": null,
   "metadata": {},
   "outputs": [],
   "source": []
  }
 ],
 "metadata": {
  "kernelspec": {
   "display_name": "Python 3 (ipykernel)",
   "language": "python",
   "name": "python3"
  },
  "language_info": {
   "codemirror_mode": {
    "name": "ipython",
    "version": 3
   },
   "file_extension": ".py",
   "mimetype": "text/x-python",
   "name": "python",
   "nbconvert_exporter": "python",
   "pygments_lexer": "ipython3",
   "version": "3.8.12"
  }
 },
 "nbformat": 4,
 "nbformat_minor": 4
}
