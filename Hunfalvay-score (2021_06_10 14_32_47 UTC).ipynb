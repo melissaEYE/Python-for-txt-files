{
 "cells": [
  {
   "cell_type": "code",
   "execution_count": 3,
   "metadata": {},
   "outputs": [
    {
     "name": "stdout",
     "output_type": "stream",
     "text": [
      "Enter your score from 0.0 to 1.0: 1.0\n",
      "A\n"
     ]
    }
   ],
   "source": [
    "# DATA 620 Assignment 8.2, turn in #1\n",
    "# Written by Melissa Hunfalvay\n",
    "# Last Updated March 4th, 2021\n",
    "\n",
    "# This program asks for a score and computes it to a grade from A to F.\n",
    "# Given (1) score between 0.0 and 1.0\n",
    "\n",
    "import sys\n",
    "\n",
    "# Prompt the user for their score \n",
    "score = input(\"Enter your score from 0.0 to 1.0: \")\n",
    "\n",
    "# Convert user input from default string value to a float \n",
    "# If not a number \n",
    "# If not an integer\n",
    "# Check that input is in permitted score range. If not, print a “Bad score” error message    \n",
    "# If <0 or greater than 1.0 \n",
    "\n",
    "try: \n",
    "    floatScore = float(score)\n",
    "\n",
    "    if floatScore <0.0 or floatScore > 1.0:\n",
    "        raise Exception(\"Score not valid, please enter a score between 0.0 and 1.0\")\n",
    "\n",
    "    # Nested conditional “if-elif” statements to determine the correct grade according to the input score range\n",
    "\n",
    "    if floatScore >= 0.0 and floatScore < 0.6:\n",
    "        print(\"F\")\n",
    "    elif floatScore >= 0.6 and floatScore < 0.7:\n",
    "        print(\"D\")\n",
    "    elif floatScore >= 0.7 and floatScore < 0.8:\n",
    "        print(\"C\")\n",
    "    elif floatScore >= 0.8 and floatScore < 0.9:\n",
    "        print(\"B\")\n",
    "    else:\n",
    "        print(\"A\")\n",
    "    \n",
    "except Exception as err:\n",
    "    print(err)\n",
    "    print(\"Score not valid, please enter a score between 0.0 and 1.0\")\n",
    "\n",
    "# End of script\n",
    "    "
   ]
  },
  {
   "cell_type": "code",
   "execution_count": null,
   "metadata": {},
   "outputs": [],
   "source": []
  }
 ],
 "metadata": {
  "kernelspec": {
   "display_name": "Python 3 (ipykernel)",
   "language": "python",
   "name": "python3"
  },
  "language_info": {
   "codemirror_mode": {
    "name": "ipython",
    "version": 3
   },
   "file_extension": ".py",
   "mimetype": "text/x-python",
   "name": "python",
   "nbconvert_exporter": "python",
   "pygments_lexer": "ipython3",
   "version": "3.8.12"
  }
 },
 "nbformat": 4,
 "nbformat_minor": 4
}
