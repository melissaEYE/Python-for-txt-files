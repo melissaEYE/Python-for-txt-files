{
 "cells": [
  {
   "cell_type": "code",
   "execution_count": 12,
   "metadata": {},
   "outputs": [
    {
     "name": "stdout",
     "output_type": "stream",
     "text": [
      "Enter your score from 0.0 to 1.0: bhvuyvk\n",
      "could not convert string to float: 'bhvuyvk'\n",
      "Score not valid, please enter a score between 0.0 and 1.0\n"
     ]
    }
   ],
   "source": [
    "# DATA 620 Assignment 8.2, turn in #2\n",
    "# Written by Melissa Hunfalvay\n",
    "# Last Updated March 4th, 2021\n",
    "\n",
    "# This program asks for a score and computes it to a grade from A to F using a function that takes a score as its parameter and returns a grade as a string\n",
    "# Given (1) score between 0.0 and 1.0\n",
    "\n",
    "import sys\n",
    "\n",
    "\n",
    "# Write a custom function with the definition def computegrade(<your score variable>):\n",
    "\n",
    "def computegrade(floatScore):\n",
    "    # Nested conditional “if-elif” statements to determine the correct grade according to the input score range\n",
    "    # Ensure your function has a “return” statement to return the computed grade back to the calling program\n",
    "    if floatScore >= 0.0 and floatScore < 0.6:\n",
    "        return \"F\"\n",
    "    elif floatScore >= 0.6 and floatScore < 0.7:\n",
    "        return \"D\"\n",
    "    elif floatScore >= 0.7 and floatScore < 0.8:\n",
    "        return \"C\"\n",
    "    elif floatScore >= 0.8 and floatScore < 0.9:\n",
    "        return \"B\"\n",
    "    else:\n",
    "        return \"A\"\n",
    "\n",
    "# Validate that the score is numeric within a try-except block and print a “bad score” error message if needed.\n",
    "# If not a number\n",
    "# If not an integer\n",
    "\n",
    "    \n",
    "try:\n",
    "    # Prompt the user for their score\n",
    "    score = input(\"Enter your score from 0.0 to 1.0: \")\n",
    "    \n",
    "    # Convert user input from default string value to a float\n",
    "    floatScore = float(score)\n",
    "\n",
    "    # Check that input is in permitted score range. If not, print a “Bad score” error message\n",
    "    # If <0 or greater than 1.0\n",
    "    if floatScore < 0.0 or floatScore > 1.0:\n",
    "        raise Exception(\"Score not valid, please enter a score between 0.0 and 1.0\")\n",
    "\n",
    "    # Invoke the above-defined computegrade function with the user-supplied score.\n",
    "\n",
    "    computegrade(floatScore)\n",
    "\n",
    "    # Ensure you capture the return value within your program into a variable placeholder \n",
    "    # variable = computegrade(floatScore)\n",
    "    # or else use the print statement to print the return value directly\n",
    "\n",
    "    print(computegrade(floatScore))\n",
    "\n",
    "except Exception as err:\n",
    "    print(err)\n",
    "    print(\"Score not valid, please enter a score between 0.0 and 1.0\")\n",
    "    \n",
    "# End of script"
   ]
  },
  {
   "cell_type": "code",
   "execution_count": null,
   "metadata": {},
   "outputs": [],
   "source": []
  },
  {
   "cell_type": "code",
   "execution_count": null,
   "metadata": {},
   "outputs": [],
   "source": []
  }
 ],
 "metadata": {
  "kernelspec": {
   "display_name": "Python 3 (ipykernel)",
   "language": "python",
   "name": "python3"
  },
  "language_info": {
   "codemirror_mode": {
    "name": "ipython",
    "version": 3
   },
   "file_extension": ".py",
   "mimetype": "text/x-python",
   "name": "python",
   "nbconvert_exporter": "python",
   "pygments_lexer": "ipython3",
   "version": "3.8.12"
  }
 },
 "nbformat": 4,
 "nbformat_minor": 4
}
