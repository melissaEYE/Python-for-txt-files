{
 "cells": [
  {
   "cell_type": "code",
   "execution_count": 4,
   "metadata": {},
   "outputs": [
    {
     "name": "stdin",
     "output_type": "stream",
     "text": [
      "Please enter a file name:  mbox-05\n"
     ]
    },
    {
     "name": "stdout",
     "output_type": "stream",
     "text": [
      "[Errno 2] No such file or directory: 'mbox-05.txt'\n",
      "Input not valid\n",
      "Count:  0\n",
      "Total:  0\n"
     ]
    }
   ],
   "source": [
    "# DATA 620 Assignment 10.2\n",
    "# Written by Melissa Hunfalvay\n",
    "# Last Updated March 18th, 2021\n",
    "\n",
    "# This program is designed to input a string, use \"find\" and other string slicing to:\n",
    "# Extract a portion of string and use \"float\" to convert into a floating point number\n",
    "\n",
    "import sys\n",
    "\n",
    "# Variables used are: \n",
    "    # str = X-DSPAM-Confidence:\n",
    "\n",
    "# Step 1 (a): Begin writing your code by prompting the user for the file name. \n",
    "# Step 1 (b): Use a try-except block to exit with a user-friendly error message if there is an error opening the file name specified. \n",
    "listnumber = [] # initialize this variable as an empty list that we can use in the for loop. Need to be done first and outside the for loop\n",
    "\n",
    "try:\n",
    "    \n",
    "    filename = input(\"Please enter a file name: \")  # Prompt the user for a file name\n",
    "    if \".txt\" not in filename: #Error Case 1: if the person adds the correct file name but does not add the txt extension\n",
    "        filename = filename + \".txt\"\n",
    "    f = open(filename,\"r\") # Open a connection to the file, r = read only\n",
    "    file = f.readlines() # Read each line of the file and store it to a variable, i.e. file\n",
    "    f.close() # This closes the file because it has been read\n",
    "   \n",
    "    \n",
    "\n",
    "    \n",
    "#case 1: person enters the correct file name but has a capital letter(s). if they put the correct name of the file in but use capital letters this could be a different file so do not create an error for this.\n",
    "#Case 2: Person does not enter the correct file name\n",
    "\n",
    "# Step 2 Once the file is opened, use an iterative loop (e.g. “for” or “while”) to traverse each line of the file. \n",
    "\n",
    "\n",
    "\n",
    "    for line in file:\n",
    "        if \"X-DSPAM-Confidence:\" in line: # This checks if X-DSPAM-Confidence: is in the line\n",
    "            spam_index = line.find(\":\") # This finds the colon in the line\n",
    "            strNum = line[spam_index + 1 :] # This takes the numbers from beyond the colon forward\n",
    "    \n",
    "\n",
    "    \n",
    "# Step 3: The number representing spam confidence is found at the end of the line. \n",
    "# In each line, find the pattern “X-DSPAM-Confidence:”\n",
    "# If this is found, extract the portion of the line after this pattern until the end of the line. \n",
    "# First, find the position of the colon\n",
    "# Remember that index values begin at 0! \n",
    "# Second, extract the portion of the string from after the colon until the end of the string\n",
    "# “find”, string extraction and “strip” functions are useful here. \n",
    "\n",
    "# Step 4: Convert the numeric part extracted from the line into a float.\n",
    "            floatNum = float(strNum.strip())\n",
    "            listnumber.append(floatNum) # This will store the number in a list each time it is found\n",
    "\n",
    "        \n",
    "# If the user enters anything other than the filename detect their mistake using try and except and print an error message \n",
    "except Exception as err:\n",
    "    print(err)\n",
    "    print(\"Input not valid\")\n",
    "    \n",
    "#Step 5: When the program has finished traversing each line in the specified file, \n",
    "# total the number of lines that had the pattern \n",
    "\n",
    "count = len(listnumber)\n",
    "print(\"Count: \", count)\n",
    "#print(listnumber)\n",
    "\n",
    "# Compute average spam confidence.\n",
    "total = sum(listnumber)\n",
    "print(\"Total: \", total)\n",
    "\n",
    "if count > 0:\n",
    "    average_spam_confid = (total/count) # Another way to compute the average is to do this average(average_spam_confid)\n",
    "    print('Average: ', average_spam_confid) # Print the value, include all decimal places\n",
    "          \n",
    "# In your calculation for average spam confidence, do NOT count the lines that did that not contain the pattern. \n",
    "\n",
    "# End of script"
   ]
  },
  {
   "cell_type": "code",
   "execution_count": 35,
   "metadata": {},
   "outputs": [
    {
     "data": {
      "text/plain": [
       "0.8766"
      ]
     },
     "execution_count": 35,
     "metadata": {},
     "output_type": "execute_result"
    }
   ],
   "source": [
    "round(0.8765836956521733,4) # This rounds the number to 4 decimal places\n"
   ]
  },
  {
   "cell_type": "code",
   "execution_count": null,
   "metadata": {},
   "outputs": [],
   "source": []
  }
 ],
 "metadata": {
  "kernelspec": {
   "display_name": "Python 3 (ipykernel)",
   "language": "python",
   "name": "python3"
  },
  "language_info": {
   "codemirror_mode": {
    "name": "ipython",
    "version": 3
   },
   "file_extension": ".py",
   "mimetype": "text/x-python",
   "name": "python",
   "nbconvert_exporter": "python",
   "pygments_lexer": "ipython3",
   "version": "3.8.12"
  }
 },
 "nbformat": 4,
 "nbformat_minor": 4
}
